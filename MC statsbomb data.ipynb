{
 "cells": [
  {
   "cell_type": "code",
   "execution_count": 1,
   "id": "08c5669b",
   "metadata": {},
   "outputs": [],
   "source": [
    "import pandas as pd"
   ]
  },
  {
   "cell_type": "code",
   "execution_count": 3,
   "id": "60c23042",
   "metadata": {},
   "outputs": [],
   "source": [
    "fawsl_df = pd.read_json(\"/Users/algin/Downloads/mc_data/statsbomb/data/FAWSL_22_23.json\")"
   ]
  },
  {
   "cell_type": "code",
   "execution_count": 4,
   "id": "b201bf2f",
   "metadata": {},
   "outputs": [],
   "source": [
    "mc_ars_lineup_df = pd.read_json(\"/Users/algin/Downloads/mc_data/statsbomb/data/ManCity_Arsenal_lineups.json\")"
   ]
  },
  {
   "cell_type": "code",
   "execution_count": 5,
   "id": "0a5cadde",
   "metadata": {},
   "outputs": [
    {
     "data": {
      "text/html": [
       "<div>\n",
       "<style scoped>\n",
       "    .dataframe tbody tr th:only-of-type {\n",
       "        vertical-align: middle;\n",
       "    }\n",
       "\n",
       "    .dataframe tbody tr th {\n",
       "        vertical-align: top;\n",
       "    }\n",
       "\n",
       "    .dataframe thead th {\n",
       "        text-align: right;\n",
       "    }\n",
       "</style>\n",
       "<table border=\"1\" class=\"dataframe\">\n",
       "  <thead>\n",
       "    <tr style=\"text-align: right;\">\n",
       "      <th></th>\n",
       "      <th>team_id</th>\n",
       "      <th>team_name</th>\n",
       "      <th>lineup</th>\n",
       "      <th>formations</th>\n",
       "      <th>events</th>\n",
       "    </tr>\n",
       "  </thead>\n",
       "  <tbody>\n",
       "    <tr>\n",
       "      <th>0</th>\n",
       "      <td>746</td>\n",
       "      <td>Manchester City WFC</td>\n",
       "      <td>[{'player_id': 4637, 'player_name': 'Ellie Roe...</td>\n",
       "      <td>[{'period': 1, 'timestamp': '00:00:00.000', 'r...</td>\n",
       "      <td>[{'period': 1, 'timestamp': '00:00:00.000', 't...</td>\n",
       "    </tr>\n",
       "    <tr>\n",
       "      <th>1</th>\n",
       "      <td>968</td>\n",
       "      <td>Arsenal WFC</td>\n",
       "      <td>[{'player_id': 5000, 'player_name': 'Stephanie...</td>\n",
       "      <td>[{'period': 1, 'timestamp': '00:00:00.000', 'r...</td>\n",
       "      <td>[{'period': 1, 'timestamp': '00:00:00.000', 't...</td>\n",
       "    </tr>\n",
       "  </tbody>\n",
       "</table>\n",
       "</div>"
      ],
      "text/plain": [
       "   team_id            team_name  \\\n",
       "0      746  Manchester City WFC   \n",
       "1      968          Arsenal WFC   \n",
       "\n",
       "                                              lineup  \\\n",
       "0  [{'player_id': 4637, 'player_name': 'Ellie Roe...   \n",
       "1  [{'player_id': 5000, 'player_name': 'Stephanie...   \n",
       "\n",
       "                                          formations  \\\n",
       "0  [{'period': 1, 'timestamp': '00:00:00.000', 'r...   \n",
       "1  [{'period': 1, 'timestamp': '00:00:00.000', 'r...   \n",
       "\n",
       "                                              events  \n",
       "0  [{'period': 1, 'timestamp': '00:00:00.000', 't...  \n",
       "1  [{'period': 1, 'timestamp': '00:00:00.000', 't...  "
      ]
     },
     "execution_count": 5,
     "metadata": {},
     "output_type": "execute_result"
    }
   ],
   "source": [
    "mc_ars_lineup_df"
   ]
  },
  {
   "cell_type": "code",
   "execution_count": 6,
   "id": "43794d1f",
   "metadata": {},
   "outputs": [],
   "source": [
    "mc_ars_events_df = pd.read_json(\"/Users/algin/Downloads/mc_data/statsbomb/data/ManCity_Arsenal_events.json\")"
   ]
  },
  {
   "cell_type": "code",
   "execution_count": 8,
   "id": "e1c8a77d",
   "metadata": {},
   "outputs": [
    {
     "data": {
      "text/plain": [
       "Index(['id', 'index', 'period', 'timestamp', 'minute', 'second', 'type',\n",
       "       'possession', 'possession_team', 'play_pattern', 'obv_for_after',\n",
       "       'obv_for_before', 'obv_for_net', 'obv_against_after',\n",
       "       'obv_against_before', 'obv_against_net', 'obv_total_net', 'team',\n",
       "       'duration', 'tactics', 'related_events', 'player', 'position',\n",
       "       'location', 'pass', 'carry', 'under_pressure', 'ball_receipt',\n",
       "       'counterpress', 'duel', 'miscontrol', 'dribble', 'interception', 'shot',\n",
       "       'goalkeeper', 'off_camera', 'clearance', 'out', 'ball_recovery',\n",
       "       'foul_won', '50_50', 'injury_stoppage', 'foul_committed',\n",
       "       'substitution', 'bad_behaviour'],\n",
       "      dtype='object')"
      ]
     },
     "execution_count": 8,
     "metadata": {},
     "output_type": "execute_result"
    }
   ],
   "source": [
    "mc_ars_events_df.columns"
   ]
  },
  {
   "cell_type": "code",
   "execution_count": 21,
   "id": "696aacc4",
   "metadata": {},
   "outputs": [
    {
     "name": "stdout",
     "output_type": "stream",
     "text": [
      "<class 'pandas.core.frame.DataFrame'>\n",
      "RangeIndex: 3629 entries, 0 to 3628\n",
      "Data columns (total 45 columns):\n",
      " #   Column              Non-Null Count  Dtype         \n",
      "---  ------              --------------  -----         \n",
      " 0   id                  3629 non-null   object        \n",
      " 1   index               3629 non-null   int64         \n",
      " 2   period              3629 non-null   int64         \n",
      " 3   timestamp           3629 non-null   datetime64[ns]\n",
      " 4   minute              3629 non-null   int64         \n",
      " 5   second              3629 non-null   int64         \n",
      " 6   type                3629 non-null   object        \n",
      " 7   possession          3629 non-null   int64         \n",
      " 8   possession_team     3629 non-null   object        \n",
      " 9   play_pattern        3629 non-null   object        \n",
      " 10  obv_for_after       2030 non-null   float64       \n",
      " 11  obv_for_before      2036 non-null   float64       \n",
      " 12  obv_for_net         2030 non-null   float64       \n",
      " 13  obv_against_after   2030 non-null   float64       \n",
      " 14  obv_against_before  2036 non-null   float64       \n",
      " 15  obv_against_net     2030 non-null   float64       \n",
      " 16  obv_total_net       2030 non-null   float64       \n",
      " 17  team                3629 non-null   object        \n",
      " 18  duration            2704 non-null   float64       \n",
      " 19  tactics             3 non-null      object        \n",
      " 20  related_events      3472 non-null   object        \n",
      " 21  player              3612 non-null   object        \n",
      " 22  position            3612 non-null   object        \n",
      " 23  location            3594 non-null   object        \n",
      " 24  pass                962 non-null    object        \n",
      " 25  carry               806 non-null    object        \n",
      " 26  under_pressure      770 non-null    float64       \n",
      " 27  ball_receipt        178 non-null    object        \n",
      " 28  counterpress        122 non-null    float64       \n",
      " 29  duel                65 non-null     object        \n",
      " 30  miscontrol          4 non-null      object        \n",
      " 31  dribble             46 non-null     object        \n",
      " 32  interception        44 non-null     object        \n",
      " 33  shot                22 non-null     object        \n",
      " 34  goalkeeper          31 non-null     object        \n",
      " 35  off_camera          59 non-null     float64       \n",
      " 36  clearance           41 non-null     object        \n",
      " 37  out                 35 non-null     float64       \n",
      " 38  ball_recovery       10 non-null     object        \n",
      " 39  foul_won            9 non-null      object        \n",
      " 40  50_50               8 non-null      object        \n",
      " 41  injury_stoppage     2 non-null      object        \n",
      " 42  foul_committed      7 non-null      object        \n",
      " 43  substitution        6 non-null      object        \n",
      " 44  bad_behaviour       1 non-null      object        \n",
      "dtypes: datetime64[ns](1), float64(12), int64(5), object(27)\n",
      "memory usage: 1.2+ MB\n"
     ]
    }
   ],
   "source": [
    "mc_ars_events_df.info()"
   ]
  },
  {
   "cell_type": "code",
   "execution_count": 24,
   "id": "b9035e45",
   "metadata": {},
   "outputs": [],
   "source": [
    "tactic_changes = mc_ars_events_df[~mc_ars_events_df['tactics'].isna()]"
   ]
  },
  {
   "cell_type": "code",
   "execution_count": 33,
   "id": "596f9606",
   "metadata": {},
   "outputs": [
    {
     "data": {
      "text/html": [
       "<div>\n",
       "<style scoped>\n",
       "    .dataframe tbody tr th:only-of-type {\n",
       "        vertical-align: middle;\n",
       "    }\n",
       "\n",
       "    .dataframe tbody tr th {\n",
       "        vertical-align: top;\n",
       "    }\n",
       "\n",
       "    .dataframe thead th {\n",
       "        text-align: right;\n",
       "    }\n",
       "</style>\n",
       "<table border=\"1\" class=\"dataframe\">\n",
       "  <thead>\n",
       "    <tr style=\"text-align: right;\">\n",
       "      <th></th>\n",
       "      <th>id</th>\n",
       "      <th>index</th>\n",
       "      <th>period</th>\n",
       "      <th>timestamp</th>\n",
       "      <th>minute</th>\n",
       "      <th>second</th>\n",
       "      <th>type</th>\n",
       "      <th>possession</th>\n",
       "      <th>possession_team</th>\n",
       "      <th>play_pattern</th>\n",
       "      <th>...</th>\n",
       "      <th>off_camera</th>\n",
       "      <th>clearance</th>\n",
       "      <th>out</th>\n",
       "      <th>ball_recovery</th>\n",
       "      <th>foul_won</th>\n",
       "      <th>50_50</th>\n",
       "      <th>injury_stoppage</th>\n",
       "      <th>foul_committed</th>\n",
       "      <th>substitution</th>\n",
       "      <th>bad_behaviour</th>\n",
       "    </tr>\n",
       "  </thead>\n",
       "  <tbody>\n",
       "    <tr>\n",
       "      <th>0</th>\n",
       "      <td>5ab3a8e3-e6e1-4a94-b057-57b2301abac5</td>\n",
       "      <td>1</td>\n",
       "      <td>1</td>\n",
       "      <td>2023-03-22</td>\n",
       "      <td>0</td>\n",
       "      <td>0</td>\n",
       "      <td>{'id': 35, 'name': 'Starting XI'}</td>\n",
       "      <td>1</td>\n",
       "      <td>{'id': 746, 'name': 'Manchester City WFC'}</td>\n",
       "      <td>{'id': 1, 'name': 'Regular Play'}</td>\n",
       "      <td>...</td>\n",
       "      <td>NaN</td>\n",
       "      <td>NaN</td>\n",
       "      <td>NaN</td>\n",
       "      <td>NaN</td>\n",
       "      <td>NaN</td>\n",
       "      <td>NaN</td>\n",
       "      <td>NaN</td>\n",
       "      <td>NaN</td>\n",
       "      <td>NaN</td>\n",
       "      <td>NaN</td>\n",
       "    </tr>\n",
       "    <tr>\n",
       "      <th>1</th>\n",
       "      <td>15347fb5-bd07-47c7-9331-b5d0d6901847</td>\n",
       "      <td>2</td>\n",
       "      <td>1</td>\n",
       "      <td>2023-03-22</td>\n",
       "      <td>0</td>\n",
       "      <td>0</td>\n",
       "      <td>{'id': 35, 'name': 'Starting XI'}</td>\n",
       "      <td>1</td>\n",
       "      <td>{'id': 746, 'name': 'Manchester City WFC'}</td>\n",
       "      <td>{'id': 1, 'name': 'Regular Play'}</td>\n",
       "      <td>...</td>\n",
       "      <td>NaN</td>\n",
       "      <td>NaN</td>\n",
       "      <td>NaN</td>\n",
       "      <td>NaN</td>\n",
       "      <td>NaN</td>\n",
       "      <td>NaN</td>\n",
       "      <td>NaN</td>\n",
       "      <td>NaN</td>\n",
       "      <td>NaN</td>\n",
       "      <td>NaN</td>\n",
       "    </tr>\n",
       "    <tr>\n",
       "      <th>1897</th>\n",
       "      <td>58d3e4ea-a747-487f-ae46-1d77d97b81eb</td>\n",
       "      <td>1898</td>\n",
       "      <td>2</td>\n",
       "      <td>2023-03-22</td>\n",
       "      <td>45</td>\n",
       "      <td>0</td>\n",
       "      <td>{'id': 36, 'name': 'Tactical Shift'}</td>\n",
       "      <td>91</td>\n",
       "      <td>{'id': 746, 'name': 'Manchester City WFC'}</td>\n",
       "      <td>{'id': 4, 'name': 'From Throw In'}</td>\n",
       "      <td>...</td>\n",
       "      <td>NaN</td>\n",
       "      <td>NaN</td>\n",
       "      <td>NaN</td>\n",
       "      <td>NaN</td>\n",
       "      <td>NaN</td>\n",
       "      <td>NaN</td>\n",
       "      <td>NaN</td>\n",
       "      <td>NaN</td>\n",
       "      <td>NaN</td>\n",
       "      <td>NaN</td>\n",
       "    </tr>\n",
       "  </tbody>\n",
       "</table>\n",
       "<p>3 rows × 45 columns</p>\n",
       "</div>"
      ],
      "text/plain": [
       "                                        id  index  period  timestamp  minute  \\\n",
       "0     5ab3a8e3-e6e1-4a94-b057-57b2301abac5      1       1 2023-03-22       0   \n",
       "1     15347fb5-bd07-47c7-9331-b5d0d6901847      2       1 2023-03-22       0   \n",
       "1897  58d3e4ea-a747-487f-ae46-1d77d97b81eb   1898       2 2023-03-22      45   \n",
       "\n",
       "      second                                  type  possession  \\\n",
       "0          0     {'id': 35, 'name': 'Starting XI'}           1   \n",
       "1          0     {'id': 35, 'name': 'Starting XI'}           1   \n",
       "1897       0  {'id': 36, 'name': 'Tactical Shift'}          91   \n",
       "\n",
       "                                 possession_team  \\\n",
       "0     {'id': 746, 'name': 'Manchester City WFC'}   \n",
       "1     {'id': 746, 'name': 'Manchester City WFC'}   \n",
       "1897  {'id': 746, 'name': 'Manchester City WFC'}   \n",
       "\n",
       "                            play_pattern  ...  off_camera  clearance  out  \\\n",
       "0      {'id': 1, 'name': 'Regular Play'}  ...         NaN        NaN  NaN   \n",
       "1      {'id': 1, 'name': 'Regular Play'}  ...         NaN        NaN  NaN   \n",
       "1897  {'id': 4, 'name': 'From Throw In'}  ...         NaN        NaN  NaN   \n",
       "\n",
       "      ball_recovery  foul_won  50_50  injury_stoppage foul_committed  \\\n",
       "0               NaN       NaN    NaN              NaN            NaN   \n",
       "1               NaN       NaN    NaN              NaN            NaN   \n",
       "1897            NaN       NaN    NaN              NaN            NaN   \n",
       "\n",
       "      substitution bad_behaviour  \n",
       "0              NaN           NaN  \n",
       "1              NaN           NaN  \n",
       "1897           NaN           NaN  \n",
       "\n",
       "[3 rows x 45 columns]"
      ]
     },
     "execution_count": 33,
     "metadata": {},
     "output_type": "execute_result"
    }
   ],
   "source": [
    "tactic_changes"
   ]
  },
  {
   "cell_type": "code",
   "execution_count": 25,
   "id": "b2940834",
   "metadata": {},
   "outputs": [
    {
     "data": {
      "text/plain": [
       "0       {'formation': 433, 'lineup': [{'player': {'id'...\n",
       "1       {'formation': 343, 'lineup': [{'player': {'id'...\n",
       "1897    {'formation': 442, 'lineup': [{'player': {'id'...\n",
       "Name: tactics, dtype: object"
      ]
     },
     "execution_count": 25,
     "metadata": {},
     "output_type": "execute_result"
    }
   ],
   "source": [
    "tactic_changes['tactics']"
   ]
  },
  {
   "cell_type": "code",
   "execution_count": 35,
   "id": "5c8f2768",
   "metadata": {},
   "outputs": [
    {
     "data": {
      "text/plain": [
       "Index(['id', 'index', 'period', 'timestamp', 'minute', 'second', 'type',\n",
       "       'possession', 'possession_team', 'play_pattern', 'obv_for_after',\n",
       "       'obv_for_before', 'obv_for_net', 'obv_against_after',\n",
       "       'obv_against_before', 'obv_against_net', 'obv_total_net', 'team',\n",
       "       'duration', 'tactics', 'related_events', 'player', 'position',\n",
       "       'location', 'pass', 'carry', 'under_pressure', 'ball_receipt',\n",
       "       'counterpress', 'duel', 'miscontrol', 'dribble', 'interception', 'shot',\n",
       "       'goalkeeper', 'off_camera', 'clearance', 'out', 'ball_recovery',\n",
       "       'foul_won', '50_50', 'injury_stoppage', 'foul_committed',\n",
       "       'substitution', 'bad_behaviour'],\n",
       "      dtype='object')"
      ]
     },
     "execution_count": 35,
     "metadata": {},
     "output_type": "execute_result"
    }
   ],
   "source": [
    "tactic_changes.columns"
   ]
  },
  {
   "cell_type": "code",
   "execution_count": 43,
   "id": "96697150",
   "metadata": {},
   "outputs": [
    {
     "data": {
      "text/plain": [
       "102     {'statsbomb_xg': 0.023782702000000003, 'end_lo...\n",
       "184     {'open_goal': True, 'statsbomb_xg': 0.62613934...\n",
       "333     {'statsbomb_xg': 0.09095456, 'end_location': [...\n",
       "490     {'statsbomb_xg': 0.031449426, 'statsbomb_xg2':...\n",
       "540     {'statsbomb_xg': 0.054788925, 'end_location': ...\n",
       "806     {'statsbomb_xg': 0.0139399115, 'end_location':...\n",
       "965     {'statsbomb_xg': 0.14745256, 'end_location': [...\n",
       "1036    {'one_on_one': True, 'statsbomb_xg': 0.4658569...\n",
       "1072    {'statsbomb_xg': 0.029694319, 'statsbomb_xg2':...\n",
       "1163    {'statsbomb_xg': 0.027609276000000002, 'statsb...\n",
       "1365    {'statsbomb_xg': 0.013277972, 'end_location': ...\n",
       "1643    {'statsbomb_xg': 0.4755491, 'statsbomb_xg2': 0...\n",
       "1814    {'statsbomb_xg': 0.054932773000000004, 'end_lo...\n",
       "2142    {'statsbomb_xg': 0.22304635, 'end_location': [...\n",
       "2210    {'statsbomb_xg': 0.08331805, 'end_location': [...\n",
       "2399    {'statsbomb_xg': 0.031398043, 'statsbomb_xg2':...\n",
       "2733    {'statsbomb_xg': 0.029792977000000002, 'end_lo...\n",
       "2756    {'statsbomb_xg': 0.014165305500000001, 'end_lo...\n",
       "2794    {'statsbomb_xg': 0.13888618, 'statsbomb_xg2': ...\n",
       "2881    {'statsbomb_xg': 0.0066961553, 'end_location':...\n",
       "3097    {'statsbomb_xg': 0.027808158000000003, 'end_lo...\n",
       "3255    {'statsbomb_xg': 0.018355556000000002, 'end_lo...\n",
       "Name: shot, dtype: object"
      ]
     },
     "execution_count": 43,
     "metadata": {},
     "output_type": "execute_result"
    }
   ],
   "source": [
    "mc_ars_events_df[~mc_ars_events_df['shot'].isna()]['shot']"
   ]
  },
  {
   "cell_type": "code",
   "execution_count": null,
   "id": "64a5a5d4",
   "metadata": {},
   "outputs": [],
   "source": []
  }
 ],
 "metadata": {
  "kernelspec": {
   "display_name": "Python 3 (ipykernel)",
   "language": "python",
   "name": "python3"
  },
  "language_info": {
   "codemirror_mode": {
    "name": "ipython",
    "version": 3
   },
   "file_extension": ".py",
   "mimetype": "text/x-python",
   "name": "python",
   "nbconvert_exporter": "python",
   "pygments_lexer": "ipython3",
   "version": "3.9.6"
  }
 },
 "nbformat": 4,
 "nbformat_minor": 5
}
